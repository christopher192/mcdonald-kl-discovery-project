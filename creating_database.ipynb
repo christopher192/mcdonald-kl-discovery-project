{
 "cells": [
  {
   "cell_type": "markdown",
   "metadata": {},
   "source": [
    "## Creating SQLite Database"
   ]
  },
  {
   "cell_type": "code",
   "execution_count": 13,
   "metadata": {},
   "outputs": [],
   "source": [
    "import psycopg2"
   ]
  },
  {
   "cell_type": "markdown",
   "metadata": {},
   "source": [
    "#### Implementation Code for Database Creation"
   ]
  },
  {
   "cell_type": "code",
   "execution_count": 14,
   "metadata": {},
   "outputs": [
    {
     "name": "stdout",
     "output_type": "stream",
     "text": [
      "Table dropped and recreated successfully.\n"
     ]
    }
   ],
   "source": [
    "try:\n",
    "    # connect to PostgreSQL database\n",
    "    conn = psycopg2.connect(\n",
    "        dbname='postgis',\n",
    "        user='postgres',\n",
    "        password='admin',\n",
    "        host='localhost',\n",
    "        port='5432'\n",
    "    )\n",
    "    c = conn.cursor()\n",
    "\n",
    "    # enable PostGIS extension\n",
    "    c.execute(\"CREATE EXTENSION IF NOT EXISTS postgis;\")\n",
    "\n",
    "    # drop table if exists\n",
    "    c.execute('DROP TABLE IF EXISTS mcdonald;')\n",
    "\n",
    "    # create table\n",
    "    c.execute('''\n",
    "        CREATE TABLE mcdonald (\n",
    "            id SERIAL PRIMARY KEY,\n",
    "            name TEXT,\n",
    "            address TEXT,\n",
    "            telephone TEXT,\n",
    "            latitude DOUBLE PRECISION,\n",
    "            longitude DOUBLE PRECISION,\n",
    "            categories TEXT,\n",
    "            geom GEOGRAPHY(POINT, 4326)\n",
    "        )\n",
    "    ''')\n",
    "\n",
    "    conn.commit()\n",
    "    print(\"Table dropped and recreated successfully.\")\n",
    "\n",
    "except Exception as e:\n",
    "    print(\"Error:\", e)\n",
    "\n",
    "finally:\n",
    "    if conn:\n",
    "        conn.close()"
   ]
  }
 ],
 "metadata": {
  "kernelspec": {
   "display_name": "web",
   "language": "python",
   "name": "python3"
  },
  "language_info": {
   "codemirror_mode": {
    "name": "ipython",
    "version": 3
   },
   "file_extension": ".py",
   "mimetype": "text/x-python",
   "name": "python",
   "nbconvert_exporter": "python",
   "pygments_lexer": "ipython3",
   "version": "3.10.18"
  }
 },
 "nbformat": 4,
 "nbformat_minor": 2
}
