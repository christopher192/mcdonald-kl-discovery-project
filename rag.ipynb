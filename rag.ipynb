{
 "cells": [
  {
   "cell_type": "code",
   "execution_count": 2,
   "id": "6da7fe17",
   "metadata": {},
   "outputs": [],
   "source": [
    "import os\n",
    "import psycopg2\n",
    "from openai import OpenAI\n",
    "from dotenv import load_dotenv\n",
    "from qdrant_client import QdrantClient\n",
    "from qdrant_client.models import PointStruct, VectorParams"
   ]
  },
  {
   "cell_type": "code",
   "execution_count": 3,
   "id": "b154579e",
   "metadata": {},
   "outputs": [],
   "source": [
    "load_dotenv()\n",
    "\n",
    "# building connection to qdrant\n",
    "client_qdrant = QdrantClient(\"http://localhost:6333\")\n",
    "collection_name = \"mcd_outlet\"\n",
    "\n",
    "# building connection to OpenAI\n",
    "client_openai = OpenAI(api_key=os.getenv(\"OPENAI_API_KEY\"))"
   ]
  },
  {
   "cell_type": "code",
   "execution_count": 4,
   "id": "491136c3",
   "metadata": {},
   "outputs": [],
   "source": [
    "def get_all_outlet():\n",
    "    conn = psycopg2.connect(\n",
    "        dbname='postgis',\n",
    "        user='postgres',\n",
    "        password='admin',\n",
    "        host='localhost',\n",
    "        port='5432'\n",
    "    )\n",
    "    cursor = conn.cursor()\n",
    "    cursor.execute(\"SELECT id, name, address, telephone, latitude, longitude, categories FROM mcdonald\")\n",
    "    column_names = [desc[0] for desc in cursor.description]\n",
    "    rows = cursor.fetchall()\n",
    "    conn.close()\n",
    "    return [dict(zip(column_names, row)) for row in rows]\n",
    "\n",
    "def rag_query(user_query):\n",
    "    response = client_openai.embeddings.create(\n",
    "        model=\"text-embedding-3-small\",\n",
    "        input=user_query\n",
    "    )\n",
    "    query_embedding = response.data[0].embedding\n",
    "\n",
    "    search_results = client_qdrant.search(\n",
    "        collection_name=collection_name,\n",
    "        query_vector=query_embedding,\n",
    "        limit=5\n",
    "    )\n",
    "    \n",
    "    retrieved = [hit.payload for hit in search_results]\n",
    "\n",
    "    context_text = \"\\n\".join([f\"{o['name']} - {o['address']}\" for o in retrieved])\n",
    "\n",
    "    prompt = f\"\"\"\n",
    "    You are a helpful assistant for McDonald's outlet search.\n",
    "\n",
    "    User Query: {user_query}\n",
    "\n",
    "    Matching Outlets:\n",
    "    {context_text}\n",
    "\n",
    "    Answer the user clearly and concisely based only on the outlets above.\n",
    "    \"\"\"\n",
    "\n",
    "    response = client_openai.chat.completions.create(\n",
    "        model=\"gpt-3.5-turbo\",\n",
    "        messages=[{\"role\": \"system\", \"content\": prompt}]\n",
    "    )\n",
    "\n",
    "    return response.choices[0].message.content"
   ]
  },
  {
   "cell_type": "code",
   "execution_count": 5,
   "id": "e5377a29",
   "metadata": {},
   "outputs": [
    {
     "data": {
      "text/plain": [
       "True"
      ]
     },
     "execution_count": 5,
     "metadata": {},
     "output_type": "execute_result"
    }
   ],
   "source": [
    "# check if collection exists\n",
    "if client_qdrant.collection_exists(collection_name):\n",
    "    client_qdrant.delete_collection(collection_name)\n",
    "\n",
    "# create collection with correct vector size\n",
    "client_qdrant.create_collection(\n",
    "    collection_name=collection_name,\n",
    "    vectors_config=VectorParams(size=1536, distance=\"Cosine\")\n",
    ")"
   ]
  },
  {
   "cell_type": "code",
   "execution_count": 6,
   "id": "737451cc",
   "metadata": {},
   "outputs": [
    {
     "data": {
      "text/plain": [
       "UpdateResult(operation_id=0, status=<UpdateStatus.COMPLETED: 'completed'>)"
      ]
     },
     "execution_count": 6,
     "metadata": {},
     "output_type": "execute_result"
    }
   ],
   "source": [
    "# embed and upload each outlet\n",
    "outlets = get_all_outlet()\n",
    "\n",
    "points = []\n",
    "for idx, o in enumerate(outlets):\n",
    "    text = (\n",
    "        f\"Name: {o['name']}. \"\n",
    "        f\"Address: {o['address']}. \"\n",
    "        f\"Latitude: {o.get('latitude')}. \"\n",
    "        f\"Longitude: {o.get('longitude')}. \"\n",
    "        f\"Categories: {o.get('categories','')}.\"\n",
    "        f\"geom: {o.get('geom','')}.\"\n",
    "    )\n",
    "    response = client_openai.embeddings.create(\n",
    "        model=\"text-embedding-3-small\",\n",
    "        input=text\n",
    "    )\n",
    "    embedding = response.data[0].embedding\n",
    "    points.append(PointStruct(id=idx, vector=embedding, payload=o))\n",
    "\n",
    "# Upsert all at once\n",
    "client_qdrant.upsert(\n",
    "    collection_name=collection_name,\n",
    "    points=points\n",
    ")"
   ]
  },
  {
   "cell_type": "code",
   "execution_count": 7,
   "id": "c67f2ed0",
   "metadata": {},
   "outputs": [
    {
     "name": "stderr",
     "output_type": "stream",
     "text": [
      "C:\\Users\\tellw\\AppData\\Local\\Temp\\ipykernel_23976\\3074598066.py:23: DeprecationWarning: `search` method is deprecated and will be removed in the future. Use `query_points` instead.\n",
      "  search_results = client_qdrant.search(\n"
     ]
    },
    {
     "name": "stdout",
     "output_type": "stream",
     "text": [
      "The outlets that allow birthday parties are:\n",
      "1. McDonald's Sunway Velocity Mall\n",
      "2. McDonald's MyTown Mall\n",
      "3. McDonald's Berjaya Times Square\n"
     ]
    }
   ],
   "source": [
    "# answer = rag_query(\"Which outlets in KL operate 24 hours?\")\n",
    "answer = rag_query(\"Which outlet allows birthday parties?\")\n",
    "print(answer)"
   ]
  }
 ],
 "metadata": {
  "kernelspec": {
   "display_name": "web",
   "language": "python",
   "name": "python3"
  },
  "language_info": {
   "codemirror_mode": {
    "name": "ipython",
    "version": 3
   },
   "file_extension": ".py",
   "mimetype": "text/x-python",
   "name": "python",
   "nbconvert_exporter": "python",
   "pygments_lexer": "ipython3",
   "version": "3.10.18"
  }
 },
 "nbformat": 4,
 "nbformat_minor": 5
}
